{
  "nbformat": 4,
  "nbformat_minor": 0,
  "metadata": {
    "colab": {
      "provenance": [],
      "gpuType": "T4",
      "authorship_tag": "ABX9TyMCD3LJiBZV5mvi/EKPLwbF",
      "include_colab_link": true
    },
    "kernelspec": {
      "name": "python3",
      "display_name": "Python 3"
    },
    "language_info": {
      "name": "python"
    },
    "accelerator": "GPU"
  },
  "cells": [
    {
      "cell_type": "markdown",
      "metadata": {
        "id": "view-in-github",
        "colab_type": "text"
      },
      "source": [
        "<a href=\"https://colab.research.google.com/github/ElaJerkovic/NAR/blob/main/NAR_Ela_J.ipynb\" target=\"_parent\"><img src=\"https://colab.research.google.com/assets/colab-badge.svg\" alt=\"Open In Colab\"/></a>"
      ]
    },
    {
      "cell_type": "code",
      "execution_count": 2,
      "metadata": {
        "colab": {
          "base_uri": "https://localhost:8080/"
        },
        "id": "hdELVrn1-IyQ",
        "outputId": "32f6a24d-931d-4290-d289-055ec6c19a67"
      },
      "outputs": [
        {
          "output_type": "stream",
          "name": "stdout",
          "text": [
            "\r0% [Working]\r            \rHit:1 https://cloud.r-project.org/bin/linux/ubuntu jammy-cran40/ InRelease\n",
            "Hit:2 https://developer.download.nvidia.com/compute/cuda/repos/ubuntu2204/x86_64  InRelease\n",
            "Hit:3 http://security.ubuntu.com/ubuntu jammy-security InRelease\n",
            "Hit:4 http://archive.ubuntu.com/ubuntu jammy InRelease\n",
            "Hit:5 http://archive.ubuntu.com/ubuntu jammy-updates InRelease\n",
            "Hit:6 http://archive.ubuntu.com/ubuntu jammy-backports InRelease\n",
            "Hit:7 https://ppa.launchpadcontent.net/c2d4u.team/c2d4u4.0+/ubuntu jammy InRelease\n",
            "Hit:8 https://ppa.launchpadcontent.net/deadsnakes/ppa/ubuntu jammy InRelease\n",
            "Hit:9 https://ppa.launchpadcontent.net/graphics-drivers/ppa/ubuntu jammy InRelease\n",
            "Hit:10 https://ppa.launchpadcontent.net/ubuntugis/ppa/ubuntu jammy InRelease\n",
            "Reading package lists... Done\n",
            "Reading package lists... Done\n",
            "Building dependency tree... Done\n",
            "Reading state information... Done\n",
            "libopencv-dev is already the newest version (4.5.4+dfsg-9ubuntu4+jammy0).\n",
            "0 upgraded, 0 newly installed, 0 to remove and 48 not upgraded.\n",
            "Requirement already satisfied: opencv-python in /usr/local/lib/python3.10/dist-packages (4.8.0.76)\n",
            "Requirement already satisfied: numpy>=1.21.2 in /usr/local/lib/python3.10/dist-packages (from opencv-python) (1.25.2)\n"
          ]
        }
      ],
      "source": [
        "!apt-get update\n",
        "!apt-get install -y libopencv-dev\n",
        "!pip install opencv-python"
      ]
    },
    {
      "cell_type": "code",
      "source": [
        "%%writefile meanFilter.cu\n",
        "#include <stdio.h>\n",
        "#include <stdlib.h>\n",
        "#include <opencv2/opencv.hpp>\n",
        "#include <cuda_runtime.h>\n",
        "using namespace cv;\n",
        "\n",
        "__global__ void meanFilter(const uchar3* input, uchar3* output, int width, int height) {\n",
        "    int x = blockIdx.x * blockDim.x + threadIdx.x;\n",
        "    int y = blockIdx.y * blockDim.y + threadIdx.y;\n",
        "    int filterSize = 7;\n",
        "    int offset = filterSize / 2;\n",
        "\n",
        "    if (x >= offset && y >= offset && x < width - offset && y < height - offset) {\n",
        "        int3 sum = make_int3(0, 0, 0);\n",
        "        for (int fy = -offset; fy <= offset; fy++) {\n",
        "            for (int fx = -offset; fx <= offset; fx++) {\n",
        "                uchar3 val = input[(y + fy) * width + (x + fx)];\n",
        "                sum.x += val.x;\n",
        "                sum.y += val.y;\n",
        "                sum.z += val.z;\n",
        "            }\n",
        "        }\n",
        "        int area = filterSize * filterSize;\n",
        "        output[y * width + x] = make_uchar3(sum.x / area, sum.y / area, sum.z / area);\n",
        "    }\n",
        "}\n",
        "\n",
        "int main(int argc, char** argv) {\n",
        "    if (argc != 2) {\n",
        "        printf(\"usage: DisplayImage.out <Image_Path>\\n\");\n",
        "        return -1;\n",
        "    }\n",
        "\n",
        "    Mat image = imread(argv[1], IMREAD_COLOR);\n",
        "    if (image.empty()) {\n",
        "        printf(\"Could not open or find the image\\n\");\n",
        "        return -1;\n",
        "    }\n",
        "\n",
        "    int height = image.rows;\n",
        "    int width = image.cols;\n",
        "    size_t sizeInBytes = width * height * sizeof(uchar3);\n",
        "\n",
        "    printf(\"Slika je veličine %i x %i\\n\", height, width);\n",
        "\n",
        "    uchar3 *d_input, *d_output;\n",
        "    cudaMalloc(&d_input, sizeInBytes);\n",
        "    cudaMalloc(&d_output, sizeInBytes);\n",
        "\n",
        "    cudaMemcpy(d_input, image.ptr<uchar3>(0), sizeInBytes, cudaMemcpyHostToDevice);\n",
        "\n",
        "    dim3 threadsPerBlock(16, 16);\n",
        "    dim3 numBlocks((width + threadsPerBlock.x - 1) / threadsPerBlock.x,\n",
        "                   (height + threadsPerBlock.y - 1) / threadsPerBlock.y);\n",
        "\n",
        "    meanFilter<<<numBlocks, threadsPerBlock>>>(d_input, d_output, width, height);\n",
        "    cudaDeviceSynchronize();\n",
        "\n",
        "    cudaError_t err = cudaGetLastError();\n",
        "    if (err != cudaSuccess) {\n",
        "        printf(\"CUDA error: %s\\n\", cudaGetErrorString(err));\n",
        "        return -1;\n",
        "    }\n",
        "\n",
        "    uchar3* h_output = (uchar3*)malloc(sizeInBytes);\n",
        "    cudaMemcpy(h_output, d_output, sizeInBytes, cudaMemcpyDeviceToHost);\n",
        "\n",
        "    Mat image_out(height, width, CV_8UC3, h_output);\n",
        "    imwrite(\"mean_filtered.jpg\", image_out);\n",
        "\n",
        "    cudaFree(d_input);\n",
        "    cudaFree(d_output);\n",
        "    free(h_output);\n",
        "\n",
        "    printf(\"Filtrirana slika je spremljena kao 'mean_filtered.jpg'\\n\");\n",
        "\n",
        "    return 0;\n",
        "}"
      ],
      "metadata": {
        "colab": {
          "base_uri": "https://localhost:8080/"
        },
        "id": "lUuY1QG8Uk8s",
        "outputId": "899d4b1c-61e9-455d-8951-e3aab4ca5a2a"
      },
      "execution_count": 3,
      "outputs": [
        {
          "output_type": "stream",
          "name": "stdout",
          "text": [
            "Writing meanFilter.cu\n"
          ]
        }
      ]
    },
    {
      "cell_type": "code",
      "source": [
        "!nvcc -o meanFilter meanFilter.cu $(pkg-config --cflags --libs opencv4) -diag-suppress=611"
      ],
      "metadata": {
        "id": "YoMB6l-QU3NR"
      },
      "execution_count": 4,
      "outputs": []
    },
    {
      "cell_type": "code",
      "source": [
        "!./meanFilter Brela3.jpg"
      ],
      "metadata": {
        "colab": {
          "base_uri": "https://localhost:8080/"
        },
        "id": "uo_JV66OU63K",
        "outputId": "887ee086-9477-4604-fae2-c339d65d2fba"
      },
      "execution_count": 5,
      "outputs": [
        {
          "output_type": "stream",
          "name": "stdout",
          "text": [
            "Slika je veličine 720 x 1240\n",
            "Filtrirana slika je spremljena kao 'mean_filtered.jpg'\n"
          ]
        }
      ]
    }
  ]
}